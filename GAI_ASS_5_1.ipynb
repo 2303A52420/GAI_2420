{
  "nbformat": 4,
  "nbformat_minor": 0,
  "metadata": {
    "colab": {
      "provenance": [],
      "authorship_tag": "ABX9TyNPkLPNpzqIE87phE4XbpyQ",
      "include_colab_link": true
    },
    "kernelspec": {
      "name": "python3",
      "display_name": "Python 3"
    },
    "language_info": {
      "name": "python"
    }
  },
  "cells": [
    {
      "cell_type": "markdown",
      "metadata": {
        "id": "view-in-github",
        "colab_type": "text"
      },
      "source": [
        "<a href=\"https://colab.research.google.com/github/2303A52420/GAI_2420/blob/main/GAI_ASS_5_1.ipynb\" target=\"_parent\"><img src=\"https://colab.research.google.com/assets/colab-badge.svg\" alt=\"Open In Colab\"/></a>"
      ]
    },
    {
      "cell_type": "code",
      "execution_count": null,
      "metadata": {
        "colab": {
          "base_uri": "https://localhost:8080/"
        },
        "id": "hE6dyGwKIRQj",
        "outputId": "6cbe7ce5-e549-450a-f24e-e9591b9eb4c8"
      },
      "outputs": [
        {
          "output_type": "stream",
          "name": "stdout",
          "text": [
            "Training complete.\n",
            "Training MSE: 2.1702800035656107e-06\n",
            "Testing MSE: 2.131180327521822e-07\n",
            "Enter values for x1 and x2: 0.5 0.6\n",
            "Predicted Output: 0.3669490414577912\n"
          ]
        }
      ],
      "source": [
        "import numpy as np\n",
        "\n",
        "# Sigmoid activation function\n",
        "def sigmoid(x):\n",
        "    return 1 / (1 + np.exp(-x))\n",
        "\n",
        "# Derivative of sigmoid\n",
        "def sigmoid_derivative(x):\n",
        "    return x * (1 - x)\n",
        "\n",
        "# Mean Squared Error (MSE) calculation\n",
        "def mse(y_true, y_pred):\n",
        "    return np.mean((y_true - y_pred) ** 2)\n",
        "\n",
        "# Initialize data from Table 1\n",
        "training_inputs = np.array([\n",
        "    [0.1, 0.2],\n",
        "    [0.2, 0.3],\n",
        "    [0.3, 0.4],\n",
        "    [0.6, 0.7],\n",
        "    [0.7, 0.8],\n",
        "    [0.8, 0.9]\n",
        "])\n",
        "\n",
        "training_outputs = np.array([[0.3432, 0.3490, 0.3548, 0.3720, 0.3776, 0.3832]]).T\n",
        "\n",
        "# Initialize weights and biases\n",
        "np.random.seed(1)\n",
        "input_layer_neurons, hidden_layer_neurons, output_layer_neurons = 2, 4, 1\n",
        "hidden_weights = np.random.uniform(size=(input_layer_neurons, hidden_layer_neurons))\n",
        "hidden_bias = np.random.uniform(size=(1, hidden_layer_neurons))\n",
        "output_weights = np.random.uniform(size=(hidden_layer_neurons, output_layer_neurons))\n",
        "output_bias = np.random.uniform(size=(1, output_layer_neurons))\n",
        "\n",
        "# Training the model\n",
        "learning_rate = 0.01\n",
        "epochs = 10000\n",
        "for _ in range(epochs):\n",
        "    # Forward Propagation\n",
        "    hidden_layer_input = np.dot(training_inputs, hidden_weights) + hidden_bias\n",
        "    hidden_layer_activation = sigmoid(hidden_layer_input)\n",
        "\n",
        "    output_layer_input = np.dot(hidden_layer_activation, output_weights) + output_bias\n",
        "    predicted_output = output_layer_input  # Linear activation function\n",
        "\n",
        "    # Backward Propagation\n",
        "    error = training_outputs - predicted_output\n",
        "    d_predicted_output = error  # Derivative of linear activation is 1\n",
        "\n",
        "    error_hidden_layer = d_predicted_output.dot(output_weights.T)\n",
        "    d_hidden_layer = error_hidden_layer * sigmoid_derivative(hidden_layer_activation)\n",
        "\n",
        "    # Updating Weights and Biases\n",
        "    output_weights += hidden_layer_activation.T.dot(d_predicted_output) * learning_rate\n",
        "    output_bias += np.sum(d_predicted_output, axis=0, keepdims=True) * learning_rate\n",
        "    hidden_weights += training_inputs.T.dot(d_hidden_layer) * learning_rate\n",
        "    hidden_bias += np.sum(d_hidden_layer, axis=0, keepdims=True) * learning_rate\n",
        "\n",
        "print(\"Training complete.\")\n",
        "\n",
        "# Testing with data from Table 2\n",
        "test_inputs = np.array([\n",
        "    [0.4, 0.5],\n",
        "    [0.5, 0.6]\n",
        "])\n",
        "\n",
        "test_outputs = np.array([[0.3606, 0.3663]]).T\n",
        "\n",
        "hidden_layer_input_test = np.dot(test_inputs, hidden_weights) + hidden_bias\n",
        "hidden_layer_activation_test = sigmoid(hidden_layer_input_test)\n",
        "\n",
        "output_layer_input_test = np.dot(hidden_layer_activation_test, output_weights) + output_bias\n",
        "predicted_output_test = output_layer_input_test  # Linear activation function\n",
        "\n",
        "# Calculate Mean Squared Error\n",
        "training_mse = mse(training_outputs, predicted_output)\n",
        "testing_mse = mse(test_outputs, predicted_output_test)\n",
        "\n",
        "print(f\"Training MSE: {training_mse}\")\n",
        "print(f\"Testing MSE: {testing_mse}\")\n",
        "\n",
        "# Predicting with user input\n",
        "x1, x2 = map(float, input(\"Enter values for x1 and x2: \").split())\n",
        "user_input = np.array([[x1, x2]])\n",
        "\n",
        "hidden_layer_input_user = np.dot(user_input, hidden_weights) + hidden_bias\n",
        "hidden_layer_activation_user = sigmoid(hidden_layer_input_user)\n",
        "\n",
        "output_layer_input_user = np.dot(hidden_layer_activation_user, output_weights) + output_bias\n",
        "predicted_output_user = output_layer_input_user  # Linear activation function\n",
        "\n",
        "print(f\"Predicted Output: {predicted_output_user[0][0]}\")\n"
      ]
    }
  ]
}